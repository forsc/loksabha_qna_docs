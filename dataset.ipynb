{
 "cells": [
  {
   "cell_type": "code",
   "execution_count": 17,
   "metadata": {},
   "outputs": [],
   "source": [
    "import requests\n",
    "from bs4 import BeautifulSoup\n",
    "import time"
   ]
  },
  {
   "cell_type": "code",
   "execution_count": 15,
   "metadata": {},
   "outputs": [],
   "source": [
    "qno = 1\n",
    "URL = f\"http://164.100.47.194/Loksabha/Questions/QResult15.aspx?qref={qno}&lsno=17\""
   ]
  },
  {
   "cell_type": "code",
   "execution_count": 18,
   "metadata": {},
   "outputs": [],
   "source": [
    "def loksabha(qno,filelocation='text_files'):\n",
    "    URL = f\"http://164.100.47.194/Loksabha/Questions/QResult15.aspx?qref={qno}&lsno=17\"\n",
    "    page = requests.get(URL)\n",
    "    soup = BeautifulSoup(page.content, \"html.parser\")\n",
    "    time.sleep(5)\n",
    "    file_text = open(\"myfile.txt\",\"w\")\n",
    "    file_text.write(soup.text)\n",
    "    file_text.close()\n"
   ]
  },
  {
   "cell_type": "code",
   "execution_count": 7,
   "metadata": {},
   "outputs": [
    {
     "data": {
      "text/plain": [
       "\"    \\tQuestions : Lok Sabha                             Screen Reader Access Skip to Main Content Skip to Navigation    Text Size                                  A                                  A A                हिन्दी मे         Parliament of India Lok Sabha House of the                         People       * Special Characters not allowed             India Time    Your Time                            Saturday,                         09 April 2022          HomeMembersSitting MembersMembers Home PageMembers' PortalContact DetailsMembers SearchStatistical AnalysisAttendance of MembersHandbook Members Since 1952Digitized Who's WhoOthers BusinessProvisional CalendarList of BusinessPapers to be LaidList of Private Members' BusinessBulletin-IDigitized Lok Sabha Bulletin Part IBulletin-IIStatement of WorkSpecial Mentions (ZERO HOUR)Resume of WorkDigitized Resume of Work done by Lok Sabha QuestionsHomeQuestion ListStatus of notices of questionQuestions CalendarGrouping of Ministries - AlphabeticalOfficers in Min./Dept. Dealing with Parliamentary WorkQuestion SearchSupplementary Questions DebatesIntroductionSynopsisUncorrected DebateText of DebateDigitized DebatesConstituent Assembly DebatesWit And HumourDebate SearchHindi FontsDisclaimer Papers LaidPapers Laid on the Table of the House LegislationIntroduction(How Bill Becomes Act)Bills IntroducedBills PassedBills PendingBills AssentedBills LapsedBills WithdrawnBills NegativedBills Search Disclaimer CommitteesIntroductionChairpersonSummary of WorkCommittee Meetings ScheduleBills Referred to CommitteesReports PresentedDigitized ReportsPress ReleaseMembership SearchToday's Committee MeetingsCommittee Subject SelectedDepartment Related-RS Govt. AssurancesSANSAD TVIntranet      HomeQuestion ListStatus of notices of questionQuestions CalendarGrouping of Ministries - AlphabeticalOfficers in Min./Dept. Dealing with Parliamentary WorkQuestion SearchSupplementary Questions            Download as PDF     Print             PDF/WORD(Hindi)   PDF/WORD                                         GOVERNMENT OF INDIA                                                                           MINISTRY OF                                     PLANNING                                           LOK SABHA                                       UNSTARRED                                        QUESTION NO:                                   1669                                           ANSWERED ON:\\xa0                                   08.12.2021       Below Poverty Line     Harish Dwivedi                                       Will the Minister of      PLANNING                           be pleased to state:-                                                                    (a)\\tthe State/UT-wise details of the families living Below Poverty Line (BPL) in the country; and (b)\\tthe criteria to determine the number of people living below poverty line at present?       ANSWER                                                             MINISTER OF STATE (INDEPENDENT CHARGE) OF THE MINISTRY OF STATISTICS & PROGRAMME IMPLEMENTATION; MINISTER OF STATE (INDEPENDENT CHARGE) OF THE MINISTRY OF PLANNING AND MINISTER OF STATE IN THE MINISTRY OF CORPORATE AFFAIRS (RAO INDERJIT SINGH) (a)\\tto (b): The erstwhile Planning Commission estimated poverty line and poverty ratio on the basis of Large Sample Surveys on Household Consumer Expenditure carried out by the National Sample Survey Office (NSSO) of the Ministry of Statistics and Programme Implementation. The last data of Large Sample Survey on Household Consumer Expenditure has been collected by NSSO in its 68th round conducted in 2011-12. Based on this data, the erstwhile Planning Commission estimated poverty lines and poverty ratio in 2011-12 following the extant Tendulkar Committee methodology and released through a Press Note issued on 22nd July 2013. According to this Press Note, the number of persons living below poverty line in India has been estimated as 27 crore in 2011-12. The poverty line was defined on the basis of Monthly Per Capita Consumption Expenditure (MPCE) as the criterion. For the year 2011-12, the poverty line at all India level has been estimated as Monthly Per-capita Consumption Expenditure of Rs. 816 for rural areas and Rs. 1000 for urban areas. The State/UT-wise details of population living below poverty line in 2011-12 are given at Annexure.*****    AnnexureNumber and Percentage of Population below poverty line by states - 2011-12 (Tendulkar Methodology)Sl.No.\\tStates\\tRural\\tUrban\\tTotal\\t\\t% of Persons\\tNo. of Persons (in lakhs)\\t% of Persons\\tNo. of Persons (in lakhs)\\t% of Persons\\tNo. of Persons ( in lakhs)1\\tAndhra Pradesh\\t10.96\\t61.80\\t5.81\\t16.98\\t9.20\\t78.782\\tArunachal Pradesh\\t38.93\\t4.25\\t20.33\\t0.66\\t34.67\\t4.913\\tAssam\\t33.89\\t92.06\\t20.49\\t9.21\\t31.98\\t101.274\\tBihar\\t34.06\\t320.40\\t31.23\\t37.75\\t33.74\\t358.155\\tChhattisgarh\\t44.61\\t88.90\\t24.75\\t15.22\\t39.93\\t104.116\\tDelhi\\t12.92\\t0.50\\t9.84\\t16.46\\t9.91\\t16.967\\tGoa\\t6.81\\t0.37\\t4.09\\t0.38\\t5.09\\t0.758\\tGujarat\\t21.54\\t75.35\\t10.14\\t26.88\\t16.63\\t102.239\\tHaryana\\t11.64\\t19.42\\t10.28\\t9.41\\t11.16\\t28.8310\\tHimachal Pradesh\\t8.48\\t5.29\\t4.33\\t0.30\\t8.06\\t5.5911\\tJammu & Kashmir\\t11.54\\t10.73\\t7.20\\t2.53\\t10.35\\t13.2712\\tJharkhand\\t40.84\\t104.09\\t24.83\\t20.24\\t36.96\\t124.3313\\tKarnataka\\t24.53\\t92.80\\t15.25\\t36.96\\t20.91\\t129.7614\\tKerala\\t9.14\\t15.48\\t4.97\\t8.46\\t7.05\\t23.9515\\tMadhya Pradesh\\t35.74\\t190.95\\t21.00\\t43.10\\t31.65\\t234.0616\\tMaharashtra\\t24.22\\t150.56\\t9.12\\t47.36\\t17.35\\t197.9217\\tManipur\\t38.80\\t7.45\\t32.59\\t2.78\\t36.89\\t10.2218\\tMeghalaya\\t12.53\\t3.04\\t9.26\\t0.57\\t11.87\\t3.6119\\tMizoram\\t35.43\\t1.91\\t6.36\\t0.37\\t20.40\\t2.2720\\tNagaland\\t19.93\\t2.76\\t16.48\\t1.00\\t18.88\\t3.7621\\tOdisha\\t35.69\\t126.14\\t17.29\\t12.39\\t32.59\\t138.5322\\tPunjab\\t7.66\\t13.35\\t9.24\\t9.82\\t8.26\\t23.1823\\tRajasthan\\t16.05\\t84.19\\t10.69\\t18.73\\t14.71\\t102.9224\\tSikkim\\t9.85\\t0.45\\t3.66\\t0.06\\t8.19\\t0.5125\\tTamil Nadu\\t15.83\\t59.23\\t6.54\\t23.40\\t11.28\\t82.6326\\tTripura\\t16.53\\t4.49\\t7.42\\t0.75\\t14.05\\t5.2427\\tUttarakhand\\t11.62\\t8.25\\t10.48\\t3.35\\t11.26\\t11.6028\\tUttar Pradesh\\t30.40\\t479.35\\t26.06\\t118.84\\t29.43\\t598.1929\\tWest Bengal\\t22.52\\t141.14\\t14.66\\t43.83\\t19.98\\t184.9830\\tPuducherry\\t17.06\\t0.69\\t6.30\\t0.55\\t9.69\\t1.2431\\tAndaman & Nicobar Islands\\t1.57\\t0.04\\t0.00\\t0.00\\t1.00\\t0.0432\\tChandigarh\\t1.64\\t0.004\\t22.31\\t2.34\\t21.81\\t2.3533\\tDadra & Nagar Haveli\\t62.59\\t1.15\\t15.38\\t0.28\\t39.31\\t1.4334\\tDaman & Diu\\t0.00\\t0.00\\t12.62\\t0.26\\t9.86\\t0.2635\\tLakshadweep\\t0.00\\t0.00\\t3.44\\t0.02\\t2.77\\t0.02 \\tAll India\\t25.70\\t2166.58\\t13.70\\t531.25\\t21.92\\t2697.83Notes:\\t1. Population as on 1st March 2012 has been used for estimating number of persons below poverty line. (2011 Census population extrapolated)2. Poverty line of Tamil Nadu has been used for Andaman and Nicobar Island.3. Urban Poverty Line of Punjab has been used for both rural and urban areas of Chandigarh.4. Poverty Line of Maharashtra has been used for Dadra & Nagar Haveli.5. Poverty line of Goa has been used for Daman & Diu.6. Poverty Line of Kerala has been used for Lakshadweep.                         HomeArchiveIndex to Select Questions (1984-1999)Ballot ListStatistical Statements Relating to QuestionsUploading of Questions - Status QueryProcedure for Sending Text of Questions & AnswersDemarcation of responsibilities in Govt. of IndiaBrochure on Statutory Corporations, Companies and Other Bodies in Which the Government of India have financial or controlling interestHighlights pertaining to questions of 17th Lok Sabha       Contact Us  Disclaimer                    Developed and Hosted by National Informatics Centre (NIC)  Content on this website is published,             managed & maintained by Software Unit, Computer (HW & SW) Management. Branch,             Lok Sabha Secretariat      HomeMembersBusinessQuestionsDebatesPapers Laid   LegislationCommitteesSANSAD TVIntranetSecretariatPRIDE   RecruitmentSC/ST ReservationConferenceParliament Library   About ParliamentPhoto GalleryRelated LinksRTITendersFAQ   SpeakerDy. SpeakerLeader of the HousePanel of ChairpersonsContact UsFeedback   Council of MinistersPublications of MinistriesParliamentry ProceduresJournal of Parliamentary Information Visitor's Counter:113021486        Copyright Privacy Policy Disclaimer Terms &                 Conditions                  Accessibility Statement Accessibility                 Options Feedback Site Map        \""
      ]
     },
     "execution_count": 7,
     "metadata": {},
     "output_type": "execute_result"
    }
   ],
   "source": [
    "soup.text"
   ]
  },
  {
   "cell_type": "code",
   "execution_count": null,
   "metadata": {},
   "outputs": [],
   "source": []
  }
 ],
 "metadata": {
  "interpreter": {
   "hash": "8d704af8e1d5b526adec44b77ee8d0fe5980014b6325c6620df4a3422fc8750a"
  },
  "kernelspec": {
   "display_name": "Python 3.9.7 ('ipl')",
   "language": "python",
   "name": "python3"
  },
  "language_info": {
   "codemirror_mode": {
    "name": "ipython",
    "version": 3
   },
   "file_extension": ".py",
   "mimetype": "text/x-python",
   "name": "python",
   "nbconvert_exporter": "python",
   "pygments_lexer": "ipython3",
   "version": "3.9.7"
  },
  "orig_nbformat": 4
 },
 "nbformat": 4,
 "nbformat_minor": 2
}
